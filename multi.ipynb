{
 "cells": [
  {
   "cell_type": "code",
   "execution_count": 8,
   "metadata": {
    "collapsed": true,
    "deletable": true,
    "editable": true
   },
   "outputs": [],
   "source": [
    "import numpy as np\n",
    "import matplotlib.pyplot as plt\n",
    "from sklearn.ensemble import RandomForestRegressor\n",
    "from sklearn.model_selection import train_test_split\n",
    "from sklearn.multioutput import MultiOutputRegressor\n",
    "import pandas as pd\n",
    "import visuals as vs\n",
    "#Refer: http://scikit-learn.org/stable/modules/multiclass.html#multioutput-classification"
   ]
  },
  {
   "cell_type": "code",
   "execution_count": 9,
   "metadata": {
    "collapsed": false
   },
   "outputs": [],
   "source": [
    "features = pd.read_csv(\"F:\\\\ML\\\\MultiTarget\\\\features.csv\")\n",
    "target   = pd.read_csv(\"F:\\\\ML\\\\MultiTarget\\\\targets.csv\")"
   ]
  },
  {
   "cell_type": "code",
   "execution_count": 20,
   "metadata": {
    "collapsed": false
   },
   "outputs": [
    {
     "name": "stdout",
     "output_type": "stream",
     "text": [
      "(1087, 102) (1087, 14)\n"
     ]
    },
    {
     "data": {
      "text/html": [
       "<div>\n",
       "<style scoped>\n",
       "    .dataframe tbody tr th:only-of-type {\n",
       "        vertical-align: middle;\n",
       "    }\n",
       "\n",
       "    .dataframe tbody tr th {\n",
       "        vertical-align: top;\n",
       "    }\n",
       "\n",
       "    .dataframe thead th {\n",
       "        text-align: right;\n",
       "    }\n",
       "</style>\n",
       "<table border=\"1\" class=\"dataframe\">\n",
       "  <thead>\n",
       "    <tr style=\"text-align: right;\">\n",
       "      <th></th>\n",
       "      <th>Set</th>\n",
       "      <th>Profile</th>\n",
       "      <th>expressivity</th>\n",
       "      <th>class_count</th>\n",
       "      <th>indiv_count</th>\n",
       "      <th>obj_property_count</th>\n",
       "      <th>dataproperty_count</th>\n",
       "      <th>datatypes_count</th>\n",
       "      <th>Cyclic Cls</th>\n",
       "      <th>HC_Cohesion</th>\n",
       "      <th>...</th>\n",
       "      <th>ReflexiveObjectProperty</th>\n",
       "      <th>InverseFunctionalObjectProperty</th>\n",
       "      <th>EquivalentDataProperties</th>\n",
       "      <th>SameIndividual</th>\n",
       "      <th>EquivalentObjectProperties</th>\n",
       "      <th>SubDataPropertyOf</th>\n",
       "      <th>FunctionalDataProperty</th>\n",
       "      <th>IrrefexiveObjectProperty</th>\n",
       "      <th>AsymmetricObjectProperty</th>\n",
       "      <th>DisjointObjectProperties</th>\n",
       "    </tr>\n",
       "  </thead>\n",
       "  <tbody>\n",
       "    <tr>\n",
       "      <th>1082</th>\n",
       "      <td>Test</td>\n",
       "      <td>DL</td>\n",
       "      <td>SHIQ(D)</td>\n",
       "      <td>1851</td>\n",
       "      <td>120</td>\n",
       "      <td>89</td>\n",
       "      <td>4</td>\n",
       "      <td>3</td>\n",
       "      <td>0.000</td>\n",
       "      <td>0.009</td>\n",
       "      <td>...</td>\n",
       "      <td>0.0</td>\n",
       "      <td>0.000</td>\n",
       "      <td>0.0</td>\n",
       "      <td>0.0</td>\n",
       "      <td>0.000</td>\n",
       "      <td>0.000</td>\n",
       "      <td>0.105</td>\n",
       "      <td>0.0</td>\n",
       "      <td>0.0</td>\n",
       "      <td>0.0</td>\n",
       "    </tr>\n",
       "    <tr>\n",
       "      <th>1083</th>\n",
       "      <td>Test</td>\n",
       "      <td>DL</td>\n",
       "      <td>SROIQ(D)</td>\n",
       "      <td>697</td>\n",
       "      <td>3795</td>\n",
       "      <td>176</td>\n",
       "      <td>14</td>\n",
       "      <td>6</td>\n",
       "      <td>0.000</td>\n",
       "      <td>0.016</td>\n",
       "      <td>...</td>\n",
       "      <td>0.0</td>\n",
       "      <td>0.000</td>\n",
       "      <td>0.0</td>\n",
       "      <td>0.0</td>\n",
       "      <td>0.017</td>\n",
       "      <td>0.000</td>\n",
       "      <td>0.062</td>\n",
       "      <td>0.0</td>\n",
       "      <td>0.0</td>\n",
       "      <td>0.0</td>\n",
       "    </tr>\n",
       "    <tr>\n",
       "      <th>1084</th>\n",
       "      <td>Test</td>\n",
       "      <td>DL</td>\n",
       "      <td>ALCROIQ(D)</td>\n",
       "      <td>389</td>\n",
       "      <td>39</td>\n",
       "      <td>152</td>\n",
       "      <td>51</td>\n",
       "      <td>7</td>\n",
       "      <td>2.222</td>\n",
       "      <td>0.016</td>\n",
       "      <td>...</td>\n",
       "      <td>0.0</td>\n",
       "      <td>0.178</td>\n",
       "      <td>0.0</td>\n",
       "      <td>0.0</td>\n",
       "      <td>0.000</td>\n",
       "      <td>2.844</td>\n",
       "      <td>1.867</td>\n",
       "      <td>0.0</td>\n",
       "      <td>0.0</td>\n",
       "      <td>0.0</td>\n",
       "    </tr>\n",
       "    <tr>\n",
       "      <th>1085</th>\n",
       "      <td>Test</td>\n",
       "      <td>EL</td>\n",
       "      <td>ALE+</td>\n",
       "      <td>2314</td>\n",
       "      <td>0</td>\n",
       "      <td>6</td>\n",
       "      <td>0</td>\n",
       "      <td>0</td>\n",
       "      <td>0.000</td>\n",
       "      <td>0.003</td>\n",
       "      <td>...</td>\n",
       "      <td>0.0</td>\n",
       "      <td>0.000</td>\n",
       "      <td>0.0</td>\n",
       "      <td>0.0</td>\n",
       "      <td>0.000</td>\n",
       "      <td>0.000</td>\n",
       "      <td>0.000</td>\n",
       "      <td>0.0</td>\n",
       "      <td>0.0</td>\n",
       "      <td>0.0</td>\n",
       "    </tr>\n",
       "    <tr>\n",
       "      <th>1086</th>\n",
       "      <td>Test</td>\n",
       "      <td>DL</td>\n",
       "      <td>SHOIQ(D)</td>\n",
       "      <td>1382</td>\n",
       "      <td>59</td>\n",
       "      <td>76</td>\n",
       "      <td>21</td>\n",
       "      <td>5</td>\n",
       "      <td>0.208</td>\n",
       "      <td>0.014</td>\n",
       "      <td>...</td>\n",
       "      <td>0.0</td>\n",
       "      <td>0.035</td>\n",
       "      <td>0.0</td>\n",
       "      <td>0.0</td>\n",
       "      <td>0.000</td>\n",
       "      <td>0.351</td>\n",
       "      <td>0.280</td>\n",
       "      <td>0.0</td>\n",
       "      <td>0.0</td>\n",
       "      <td>0.0</td>\n",
       "    </tr>\n",
       "  </tbody>\n",
       "</table>\n",
       "<p>5 rows × 102 columns</p>\n",
       "</div>"
      ],
      "text/plain": [
       "       Set Profile expressivity  class_count  indiv_count  obj_property_count  \\\n",
       "1082  Test      DL      SHIQ(D)         1851          120                  89   \n",
       "1083  Test      DL     SROIQ(D)          697         3795                 176   \n",
       "1084  Test      DL   ALCROIQ(D)          389           39                 152   \n",
       "1085  Test      EL         ALE+         2314            0                   6   \n",
       "1086  Test      DL     SHOIQ(D)         1382           59                  76   \n",
       "\n",
       "      dataproperty_count  datatypes_count  Cyclic Cls  HC_Cohesion  \\\n",
       "1082                   4                3       0.000        0.009   \n",
       "1083                  14                6       0.000        0.016   \n",
       "1084                  51                7       2.222        0.016   \n",
       "1085                   0                0       0.000        0.003   \n",
       "1086                  21                5       0.208        0.014   \n",
       "\n",
       "                ...             ReflexiveObjectProperty  \\\n",
       "1082            ...                                 0.0   \n",
       "1083            ...                                 0.0   \n",
       "1084            ...                                 0.0   \n",
       "1085            ...                                 0.0   \n",
       "1086            ...                                 0.0   \n",
       "\n",
       "      InverseFunctionalObjectProperty  EquivalentDataProperties  \\\n",
       "1082                            0.000                       0.0   \n",
       "1083                            0.000                       0.0   \n",
       "1084                            0.178                       0.0   \n",
       "1085                            0.000                       0.0   \n",
       "1086                            0.035                       0.0   \n",
       "\n",
       "      SameIndividual  EquivalentObjectProperties  SubDataPropertyOf  \\\n",
       "1082             0.0                       0.000              0.000   \n",
       "1083             0.0                       0.017              0.000   \n",
       "1084             0.0                       0.000              2.844   \n",
       "1085             0.0                       0.000              0.000   \n",
       "1086             0.0                       0.000              0.351   \n",
       "\n",
       "      FunctionalDataProperty  IrrefexiveObjectProperty  \\\n",
       "1082                   0.105                       0.0   \n",
       "1083                   0.062                       0.0   \n",
       "1084                   1.867                       0.0   \n",
       "1085                   0.000                       0.0   \n",
       "1086                   0.280                       0.0   \n",
       "\n",
       "      AsymmetricObjectProperty  DisjointObjectProperties  \n",
       "1082                       0.0                       0.0  \n",
       "1083                       0.0                       0.0  \n",
       "1084                       0.0                       0.0  \n",
       "1085                       0.0                       0.0  \n",
       "1086                       0.0                       0.0  \n",
       "\n",
       "[5 rows x 102 columns]"
      ]
     },
     "execution_count": 20,
     "metadata": {},
     "output_type": "execute_result"
    }
   ],
   "source": [
    "print(features.shape, target.shape)\n",
    "features.tail()"
   ]
  },
  {
   "cell_type": "code",
   "execution_count": 29,
   "metadata": {
    "collapsed": false
   },
   "outputs": [
    {
     "name": "stderr",
     "output_type": "stream",
     "text": [
      "C:\\Users\\Hemant\\AppData\\Local\\conda\\conda\\envs\\aind-dog\\lib\\site-packages\\ipykernel\\__main__.py:7: SettingWithCopyWarning: \n",
      "A value is trying to be set on a copy of a slice from a DataFrame.\n",
      "Try using .loc[row_indexer,col_indexer] = value instead\n",
      "\n",
      "See the caveats in the documentation: http://pandas.pydata.org/pandas-docs/stable/indexing.html#indexing-view-versus-copy\n"
     ]
    },
    {
     "name": "stdout",
     "output_type": "stream",
     "text": [
      "expressivity\n",
      "expressivity\n",
      "Konclude_status\n",
      "More_status\n",
      "Hermit_status\n",
      "Fact++_status\n",
      "TrOWL_status\n",
      "JFact_status\n",
      "Konclude_status\n",
      "More_status\n",
      "Hermit_status\n",
      "Fact++_status\n",
      "TrOWL_status\n",
      "JFact_status\n"
     ]
    }
   ],
   "source": [
    "from sklearn import preprocessing\n",
    "\n",
    "def df_lbl_enc(df):\n",
    "    for c in df.columns:\n",
    "        if df[c].dtype == 'object':\n",
    "            lbl = preprocessing.LabelEncoder()\n",
    "            df[c] = lbl.fit_transform(df[c])\n",
    "            #print(c)\n",
    "    return df\n",
    "\n",
    "train_features = features.loc[features['Set'] == \"Train\"] \n",
    "test_features = features.loc[features['Set'] == \"Test\"] \n",
    "train_target  = target.loc[target['Set'] == \"Train\"] \n",
    "test_target   = target.loc[target['Set'] == \"Test\"]\n",
    "\n",
    "features_cols = [c for c in features if c not in ['Set','Profile']]\n",
    "target_cols = [c for c in target if c not in ['Set','Profile']]\n",
    "\n",
    "train_features = df_lbl_enc(train_features[features_cols])\n",
    "test_features  = df_lbl_enc(test_features[features_cols])\n",
    "train_target   = df_lbl_enc(train_target[target_cols])\n",
    "test_target    = df_lbl_enc(test_target[target_cols])\n",
    "\n",
    "\n",
    "#test_cols = [c for c in test_features if c not in ['Set','Profile']]"
   ]
  },
  {
   "cell_type": "code",
   "execution_count": 25,
   "metadata": {
    "collapsed": false
   },
   "outputs": [
    {
     "name": "stdout",
     "output_type": "stream",
     "text": [
      "(550, 100) (550, 12) (537, 100) (537, 12)\n"
     ]
    }
   ],
   "source": [
    "print(train_features.shape, train_target.shape, test_features.shape, test_target.shape)"
   ]
  },
  {
   "cell_type": "code",
   "execution_count": 31,
   "metadata": {
    "collapsed": false
   },
   "outputs": [
    {
     "name": "stdout",
     "output_type": "stream",
     "text": [
      "-0.604395851651\n"
     ]
    }
   ],
   "source": [
    "clf1 = RandomForestRegressor(100).fit(train_features, train_target)\n",
    "print(clf1.score(test_features,test_target))"
   ]
  }
 ],
 "metadata": {
  "anaconda-cloud": {},
  "kernelspec": {
   "display_name": "Python [conda env:aind-dog]",
   "language": "python",
   "name": "conda-env-aind-dog-py"
  },
  "language_info": {
   "codemirror_mode": {
    "name": "ipython",
    "version": 3
   },
   "file_extension": ".py",
   "mimetype": "text/x-python",
   "name": "python",
   "nbconvert_exporter": "python",
   "pygments_lexer": "ipython3",
   "version": "3.5.3"
  }
 },
 "nbformat": 4,
 "nbformat_minor": 1
}
