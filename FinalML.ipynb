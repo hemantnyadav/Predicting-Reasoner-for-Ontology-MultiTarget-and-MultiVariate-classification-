{
 "cells": [
  {
   "cell_type": "code",
   "execution_count": 70,
   "metadata": {
    "collapsed": true,
    "deletable": true,
    "editable": true
   },
   "outputs": [],
   "source": [
    "import numpy as np\n",
    "import matplotlib.pyplot as plt\n",
    "from sklearn.ensemble import RandomForestRegressor\n",
    "from sklearn.model_selection import train_test_split\n",
    "from sklearn.multioutput import MultiOutputRegressor\n",
    "from sklearn.metrics import accuracy_score\n",
    "import pandas as pd\n",
    "import visuals as vs\n",
    "from sklearn.metrics import r2_score\n",
    "from pandas import DataFrame\n",
    "from sklearn import preprocessing\n",
    "from scipy import stats\n",
    "from sklearn.model_selection import train_test_split\n",
    "from sklearn.tree import DecisionTreeRegressor\n",
    "\n",
    "features = pd.read_csv(\"F:\\\\ML\\\\MultiTarget\\\\features.csv\")\n",
    "target   = pd.read_csv(\"F:\\\\ML\\\\MultiTarget\\\\targets.csv\")\n"
   ]
  },
  {
   "cell_type": "code",
   "execution_count": 20,
   "metadata": {
    "collapsed": false,
    "deletable": true,
    "editable": true
   },
   "outputs": [
    {
     "name": "stdout",
     "output_type": "stream",
     "text": [
      "object\n",
      "object\n",
      "object\n"
     ]
    },
    {
     "data": {
      "text/html": [
       "<div>\n",
       "<style scoped>\n",
       "    .dataframe tbody tr th:only-of-type {\n",
       "        vertical-align: middle;\n",
       "    }\n",
       "\n",
       "    .dataframe tbody tr th {\n",
       "        vertical-align: top;\n",
       "    }\n",
       "\n",
       "    .dataframe thead th {\n",
       "        text-align: right;\n",
       "    }\n",
       "</style>\n",
       "<table border=\"1\" class=\"dataframe\">\n",
       "  <thead>\n",
       "    <tr style=\"text-align: right;\">\n",
       "      <th></th>\n",
       "      <th>Set</th>\n",
       "      <th>Profile</th>\n",
       "      <th>expressivity</th>\n",
       "      <th>class_count</th>\n",
       "      <th>indiv_count</th>\n",
       "      <th>obj_property_count</th>\n",
       "      <th>dataproperty_count</th>\n",
       "      <th>datatypes_count</th>\n",
       "      <th>Cyclic Cls</th>\n",
       "      <th>HC_Cohesion</th>\n",
       "      <th>...</th>\n",
       "      <th>ReflexiveObjectProperty</th>\n",
       "      <th>InverseFunctionalObjectProperty</th>\n",
       "      <th>EquivalentDataProperties</th>\n",
       "      <th>SameIndividual</th>\n",
       "      <th>EquivalentObjectProperties</th>\n",
       "      <th>SubDataPropertyOf</th>\n",
       "      <th>FunctionalDataProperty</th>\n",
       "      <th>IrrefexiveObjectProperty</th>\n",
       "      <th>AsymmetricObjectProperty</th>\n",
       "      <th>DisjointObjectProperties</th>\n",
       "    </tr>\n",
       "  </thead>\n",
       "  <tbody>\n",
       "    <tr>\n",
       "      <th>0</th>\n",
       "      <td>Train</td>\n",
       "      <td>DL</td>\n",
       "      <td>ALEHIF+</td>\n",
       "      <td>2748</td>\n",
       "      <td>0</td>\n",
       "      <td>413</td>\n",
       "      <td>0</td>\n",
       "      <td>0</td>\n",
       "      <td>0.005</td>\n",
       "      <td>0.004</td>\n",
       "      <td>...</td>\n",
       "      <td>0.0</td>\n",
       "      <td>0.0</td>\n",
       "      <td>0.0</td>\n",
       "      <td>0.0</td>\n",
       "      <td>0.0</td>\n",
       "      <td>0.0</td>\n",
       "      <td>0.0</td>\n",
       "      <td>0.0</td>\n",
       "      <td>0.0</td>\n",
       "      <td>0.0</td>\n",
       "    </tr>\n",
       "    <tr>\n",
       "      <th>1</th>\n",
       "      <td>Train</td>\n",
       "      <td>EL</td>\n",
       "      <td>ALEH</td>\n",
       "      <td>2748</td>\n",
       "      <td>0</td>\n",
       "      <td>413</td>\n",
       "      <td>0</td>\n",
       "      <td>0</td>\n",
       "      <td>0.000</td>\n",
       "      <td>0.004</td>\n",
       "      <td>...</td>\n",
       "      <td>0.0</td>\n",
       "      <td>0.0</td>\n",
       "      <td>0.0</td>\n",
       "      <td>0.0</td>\n",
       "      <td>0.0</td>\n",
       "      <td>0.0</td>\n",
       "      <td>0.0</td>\n",
       "      <td>0.0</td>\n",
       "      <td>0.0</td>\n",
       "      <td>0.0</td>\n",
       "    </tr>\n",
       "    <tr>\n",
       "      <th>2</th>\n",
       "      <td>Train</td>\n",
       "      <td>DL</td>\n",
       "      <td>SRIQ</td>\n",
       "      <td>56632</td>\n",
       "      <td>0</td>\n",
       "      <td>198</td>\n",
       "      <td>0</td>\n",
       "      <td>0</td>\n",
       "      <td>0.435</td>\n",
       "      <td>0.002</td>\n",
       "      <td>...</td>\n",
       "      <td>0.0</td>\n",
       "      <td>0.0</td>\n",
       "      <td>0.0</td>\n",
       "      <td>0.0</td>\n",
       "      <td>0.0</td>\n",
       "      <td>0.0</td>\n",
       "      <td>0.0</td>\n",
       "      <td>0.0</td>\n",
       "      <td>0.0</td>\n",
       "      <td>0.0</td>\n",
       "    </tr>\n",
       "    <tr>\n",
       "      <th>3</th>\n",
       "      <td>Train</td>\n",
       "      <td>DL</td>\n",
       "      <td>SRIF</td>\n",
       "      <td>36495</td>\n",
       "      <td>0</td>\n",
       "      <td>17</td>\n",
       "      <td>0</td>\n",
       "      <td>0</td>\n",
       "      <td>0.719</td>\n",
       "      <td>0.003</td>\n",
       "      <td>...</td>\n",
       "      <td>0.0</td>\n",
       "      <td>0.0</td>\n",
       "      <td>0.0</td>\n",
       "      <td>0.0</td>\n",
       "      <td>0.0</td>\n",
       "      <td>0.0</td>\n",
       "      <td>0.0</td>\n",
       "      <td>0.0</td>\n",
       "      <td>0.0</td>\n",
       "      <td>0.0</td>\n",
       "    </tr>\n",
       "    <tr>\n",
       "      <th>4</th>\n",
       "      <td>Train</td>\n",
       "      <td>DL</td>\n",
       "      <td>ALUOI(D)</td>\n",
       "      <td>84</td>\n",
       "      <td>5</td>\n",
       "      <td>11</td>\n",
       "      <td>6</td>\n",
       "      <td>2</td>\n",
       "      <td>0.000</td>\n",
       "      <td>0.079</td>\n",
       "      <td>...</td>\n",
       "      <td>0.0</td>\n",
       "      <td>0.0</td>\n",
       "      <td>0.0</td>\n",
       "      <td>0.0</td>\n",
       "      <td>0.0</td>\n",
       "      <td>0.0</td>\n",
       "      <td>0.0</td>\n",
       "      <td>0.0</td>\n",
       "      <td>0.0</td>\n",
       "      <td>0.0</td>\n",
       "    </tr>\n",
       "  </tbody>\n",
       "</table>\n",
       "<p>5 rows × 102 columns</p>\n",
       "</div>"
      ],
      "text/plain": [
       "     Set Profile expressivity  class_count  indiv_count  obj_property_count  \\\n",
       "0  Train      DL      ALEHIF+         2748            0                 413   \n",
       "1  Train      EL         ALEH         2748            0                 413   \n",
       "2  Train      DL         SRIQ        56632            0                 198   \n",
       "3  Train      DL         SRIF        36495            0                  17   \n",
       "4  Train      DL     ALUOI(D)           84            5                  11   \n",
       "\n",
       "   dataproperty_count  datatypes_count  Cyclic Cls  HC_Cohesion  \\\n",
       "0                   0                0       0.005        0.004   \n",
       "1                   0                0       0.000        0.004   \n",
       "2                   0                0       0.435        0.002   \n",
       "3                   0                0       0.719        0.003   \n",
       "4                   6                2       0.000        0.079   \n",
       "\n",
       "             ...             ReflexiveObjectProperty  \\\n",
       "0            ...                                 0.0   \n",
       "1            ...                                 0.0   \n",
       "2            ...                                 0.0   \n",
       "3            ...                                 0.0   \n",
       "4            ...                                 0.0   \n",
       "\n",
       "   InverseFunctionalObjectProperty  EquivalentDataProperties  SameIndividual  \\\n",
       "0                              0.0                       0.0             0.0   \n",
       "1                              0.0                       0.0             0.0   \n",
       "2                              0.0                       0.0             0.0   \n",
       "3                              0.0                       0.0             0.0   \n",
       "4                              0.0                       0.0             0.0   \n",
       "\n",
       "   EquivalentObjectProperties  SubDataPropertyOf  FunctionalDataProperty  \\\n",
       "0                         0.0                0.0                     0.0   \n",
       "1                         0.0                0.0                     0.0   \n",
       "2                         0.0                0.0                     0.0   \n",
       "3                         0.0                0.0                     0.0   \n",
       "4                         0.0                0.0                     0.0   \n",
       "\n",
       "   IrrefexiveObjectProperty  AsymmetricObjectProperty  \\\n",
       "0                       0.0                       0.0   \n",
       "1                       0.0                       0.0   \n",
       "2                       0.0                       0.0   \n",
       "3                       0.0                       0.0   \n",
       "4                       0.0                       0.0   \n",
       "\n",
       "   DisjointObjectProperties  \n",
       "0                       0.0  \n",
       "1                       0.0  \n",
       "2                       0.0  \n",
       "3                       0.0  \n",
       "4                       0.0  \n",
       "\n",
       "[5 rows x 102 columns]"
      ]
     },
     "execution_count": 20,
     "metadata": {},
     "output_type": "execute_result"
    }
   ],
   "source": [
    "for i in features.columns:\n",
    "    if(features[i].dtypes == 'object'):\n",
    "        print(features[i].dtypes)\n",
    "    \n",
    "features.head()"
   ]
  },
  {
   "cell_type": "code",
   "execution_count": 72,
   "metadata": {
    "collapsed": false,
    "deletable": true,
    "editable": true
   },
   "outputs": [
    {
     "name": "stderr",
     "output_type": "stream",
     "text": [
      "C:\\Users\\Hemant\\AppData\\Local\\conda\\conda\\envs\\aind-dog\\lib\\site-packages\\ipykernel\\__main__.py:5: SettingWithCopyWarning: \n",
      "A value is trying to be set on a copy of a slice from a DataFrame.\n",
      "Try using .loc[row_indexer,col_indexer] = value instead\n",
      "\n",
      "See the caveats in the documentation: http://pandas.pydata.org/pandas-docs/stable/indexing.html#indexing-view-versus-copy\n",
      "C:\\Users\\Hemant\\AppData\\Local\\conda\\conda\\envs\\aind-dog\\lib\\site-packages\\ipykernel\\__main__.py:6: SettingWithCopyWarning: \n",
      "A value is trying to be set on a copy of a slice from a DataFrame.\n",
      "Try using .loc[row_indexer,col_indexer] = value instead\n",
      "\n",
      "See the caveats in the documentation: http://pandas.pydata.org/pandas-docs/stable/indexing.html#indexing-view-versus-copy\n"
     ]
    }
   ],
   "source": [
    "def df_lbl_enc(df):\n",
    "    for c in df.columns:\n",
    "        if df[c].dtype == 'object':\n",
    "            lbl = preprocessing.LabelEncoder()\n",
    "            df[c] = lbl.fit_transform(df[c])\n",
    "            df[c] = df[c]\n",
    "            #print(c)\n",
    "    return df\n",
    "def df_normalize(df):\n",
    "    for c in df.columns:\n",
    "        #if df[c].dtypes != 'object':\n",
    "            #print(c)\n",
    "            df[c] = df[c] - df[c].min() / (df[c].max() - df[c].min());\n",
    "            #df[c] = stats.boxcox(df[c])\n",
    "    return df\n",
    "\n",
    "def df_de_normalize(df):\n",
    "    for c in df.columns:\n",
    "        #if df[c].dtypes != 'object':\n",
    "            #print(c)\n",
    "            df[c] = df[c] * (df[c].max() - df[c].min()) + df[c].min();\n",
    "            #df[c] = stats.boxcox(df[c])\n",
    "    return df\n",
    "\n",
    "\n",
    "\n",
    "train_features, test_features, train_target, test_target = train_test_split(features, target, test_size=0.50, random_state=42)\n",
    "features_cols = [c for c in features if c not in ['Set','Profile']]\n",
    "target_cols =   ['Konclude_RT','More_RT', 'Hermit_RT', 'Fact++_RT', 'TrOWL_RT', 'JFact_RT']\n",
    "\n",
    "train_features = (df_lbl_enc(train_features[features_cols]))\n",
    "test_features  = (df_lbl_enc(test_features[features_cols]))\n",
    "\n",
    "train_target   = (train_target[target_cols])\n",
    "test_target    = (test_target[target_cols])"
   ]
  },
  {
   "cell_type": "code",
   "execution_count": 16,
   "metadata": {
    "collapsed": false,
    "deletable": true,
    "editable": true
   },
   "outputs": [],
   "source": [
    "test_features  = test_features.reset_index(drop = True)\n",
    "train_features = train_features.reset_index(drop = True)\n",
    "test_target    = test_target.reset_index(drop = True)\n",
    "train_target   = train_target.reset_index(drop = True)"
   ]
  },
  {
   "cell_type": "code",
   "execution_count": 17,
   "metadata": {
    "collapsed": false,
    "deletable": true,
    "editable": true
   },
   "outputs": [],
   "source": [
    "\n",
    "import collections\n",
    "from collections import Counter\n",
    "\n",
    "def out_lier_detector(df1,df2):\n",
    "    outlier_list = []\n",
    "    outliers_list = []\n",
    "    \n",
    "    for feature in df1.keys():\n",
    "\n",
    "        # TODO: Calculate Q1 (25th percentile of the data) for the given feature\n",
    "        #print log_data[feature]\n",
    "        Q1 = np.percentile(df1[feature], 25)\n",
    "\n",
    "        # TODO: Calculate Q3 (75th percentile of the data) for the given feature\n",
    "        Q3 = np.percentile(df1[feature], 75)\n",
    "\n",
    "        # TODO: Use the interquartile range to calculate an outlier step (1.5 times the interquartile range)\n",
    "        step = (Q3-Q1)*1.5\n",
    "\n",
    "        # Display the outliers\n",
    "        #print \"Data points considered outliers for the feature '{}':\".format(feature)\n",
    "\n",
    "        outlier_list = df1[~((df1[feature] >= Q1 - step) & (df1[feature] <= Q3 + step))]\n",
    "        outliers_list = outliers_list + outlier_list.index.tolist()\n",
    "\n",
    "    # OPTIONAL: Select the indices for data points you wish to remove\n",
    "    outliers  = outliers_list\n",
    "    #print(outliers)\n",
    "    counter = collections.Counter(outliers).most_common(100)\n",
    "    #print(counter)\n",
    "    outliers = [k for k in (x[0] for x in counter)]\n",
    "\n",
    "    # Remove the outliers, if any were specified\n",
    "    data1 = df1.drop(df1.index[outliers]).reset_index(drop = True)\n",
    "    data2 = df2.drop(df2.index[outliers]).reset_index(drop = True)\n",
    "    \n",
    "    return data1,data2"
   ]
  },
  {
   "cell_type": "code",
   "execution_count": 18,
   "metadata": {
    "collapsed": false,
    "deletable": true,
    "editable": true
   },
   "outputs": [],
   "source": [
    "train_features_o,train_target_o = out_lier_detector(train_features,train_target)\n",
    "test_features_o,test_target_o = out_lier_detector(test_features,test_target)\n",
    "#dict = [k for k in (x[0] for x in otlist1)]"
   ]
  },
  {
   "cell_type": "code",
   "execution_count": 388,
   "metadata": {
    "collapsed": false,
    "deletable": true,
    "editable": true
   },
   "outputs": [],
   "source": [
    "from sklearn.decomposition import PCA\n",
    "pca = PCA(n_components=10)\n",
    "pca.fit(train_features_o)\n",
    "myf = pca.transform(train_features_o)\n",
    "\n",
    "pca.fit(test_features_o)\n",
    "myt = pca.transform(test_features_o)\n"
   ]
  },
  {
   "cell_type": "code",
   "execution_count": 386,
   "metadata": {
    "collapsed": false,
    "deletable": true,
    "editable": true
   },
   "outputs": [
    {
     "data": {
      "text/plain": [
       "-0.21605985361264324"
      ]
     },
     "execution_count": 386,
     "metadata": {},
     "output_type": "execute_result"
    }
   ],
   "source": [
    "from sklearn.neural_network import MLPRegressor\n",
    "\n",
    "mlp = MLPRegressor(solver='lbfgs', hidden_layer_sizes=100,\n",
    "                           max_iter=150, shuffle=True, random_state=1,\n",
    "                           activation='relu')\n",
    "mlp.fit(train_features_o, train_target_o['Konclude_RT'])\n",
    "mlp.score(test_features_o, test_target_o['Konclude_RT'])"
   ]
  },
  {
   "cell_type": "code",
   "execution_count": 78,
   "metadata": {
    "collapsed": false
   },
   "outputs": [
    {
     "name": "stderr",
     "output_type": "stream",
     "text": [
      "C:\\Users\\Hemant\\AppData\\Local\\conda\\conda\\envs\\aind-dog\\lib\\site-packages\\ipykernel\\__main__.py:5: SettingWithCopyWarning: \n",
      "A value is trying to be set on a copy of a slice from a DataFrame.\n",
      "Try using .loc[row_indexer,col_indexer] = value instead\n",
      "\n",
      "See the caveats in the documentation: http://pandas.pydata.org/pandas-docs/stable/indexing.html#indexing-view-versus-copy\n",
      "C:\\Users\\Hemant\\AppData\\Local\\conda\\conda\\envs\\aind-dog\\lib\\site-packages\\ipykernel\\__main__.py:6: SettingWithCopyWarning: \n",
      "A value is trying to be set on a copy of a slice from a DataFrame.\n",
      "Try using .loc[row_indexer,col_indexer] = value instead\n",
      "\n",
      "See the caveats in the documentation: http://pandas.pydata.org/pandas-docs/stable/indexing.html#indexing-view-versus-copy\n",
      "C:\\Users\\Hemant\\AppData\\Local\\conda\\conda\\envs\\aind-dog\\lib\\site-packages\\ipykernel\\__main__.py:13: SettingWithCopyWarning: \n",
      "A value is trying to be set on a copy of a slice from a DataFrame.\n",
      "Try using .loc[row_indexer,col_indexer] = value instead\n",
      "\n",
      "See the caveats in the documentation: http://pandas.pydata.org/pandas-docs/stable/indexing.html#indexing-view-versus-copy\n"
     ]
    },
    {
     "name": "stdout",
     "output_type": "stream",
     "text": [
      "(1087, 39)\n",
      "Konclude_RT 0.758736050804\n",
      "More_RT 0.725792524288\n",
      "Hermit_RT 0.743354396497\n",
      "Fact++_RT 0.709968040856\n",
      "TrOWL_RT 0.665354205709\n",
      "JFact_RT 0.652648591619\n",
      "JFact_RT 0.724844599128\n"
     ]
    },
    {
     "data": {
      "text/plain": [
       "<matplotlib.axes._subplots.AxesSubplot at 0x15cb4be0>"
      ]
     },
     "execution_count": 78,
     "metadata": {},
     "output_type": "execute_result"
    },
    {
     "data": {
      "image/png": "[encoded data removed]",
      "text/plain": [
       "<matplotlib.figure.Figure at 0x197ccb00>"
      ]
     },
     "metadata": {},
     "output_type": "display_data"
    }
   ],
   "source": [
    "from sklearn.pipeline import Pipeline\n",
    "from sklearn.feature_selection import SelectFromModel\n",
    "\n",
    "\n",
    "\n",
    "'''\n",
    "regp = Pipeline([\n",
    "  ('feature_selection', SelectFromModel(RandomForestRegressor(70))),\n",
    "  ('regresion', RandomForestRegressor(70))\n",
    "])\n",
    "regp.fit(train_features, train_target['Konclude_RT'])\n",
    "print(regp.score(test_features, test_target['Konclude_RT']))\n",
    "\n",
    "'''\n",
    "\n",
    "\n",
    "X = df_normalize(df_lbl_enc(features[features_cols]))\n",
    "y = df_normalize(df_lbl_enc(target[target_cols]))\n",
    "\n",
    "regp = RandomForestRegressor().fit(X[features_cols],y)\n",
    "model = SelectFromModel(regp, prefit=True)\n",
    "X_new = model.transform(X[features_cols])\n",
    "print(X_new.shape)\n",
    "\n",
    "train_features, test_features, train_target, test_target = train_test_split(X_new, y, test_size=.900, random_state=42)\n",
    "\n",
    "\n",
    "for i in train_target.columns:\n",
    "    regp = RandomForestRegressor().fit(X_new, y[i])\n",
    "    #print(X_new)\n",
    "    print(i,regp.score(X_new, y[i]))\n",
    "    \n",
    "regp = RandomForestRegressor().fit(X_new, y)\n",
    "#print(X_new)\n",
    "print(i,regp.score(X_new, y))\n",
    "\n",
    "\n",
    "y['Konclude_RT'].plot()"
   ]
  },
  {
   "cell_type": "code",
   "execution_count": 325,
   "metadata": {
    "collapsed": false,
    "deletable": true,
    "editable": true
   },
   "outputs": [
    {
     "name": "stdout",
     "output_type": "stream",
     "text": [
      "-1.62375850785\n"
     ]
    },
    {
     "ename": "ValueError",
     "evalue": "all the input array dimensions except for the concatenation axis must match exactly",
     "output_type": "error",
     "traceback": [
      "\u001b[1;31m---------------------------------------------------------------------------\u001b[0m",
      "\u001b[1;31mValueError\u001b[0m                                Traceback (most recent call last)",
      "\u001b[1;32m<ipython-input-325-b98ef4d57192>\u001b[0m in \u001b[0;36m<module>\u001b[1;34m()\u001b[0m\n\u001b[0;32m      4\u001b[0m \u001b[0mfeatures_list\u001b[0m \u001b[1;33m=\u001b[0m \u001b[0mtrain_features\u001b[0m\u001b[1;33m.\u001b[0m\u001b[0mcolumns\u001b[0m\u001b[1;33m.\u001b[0m\u001b[0mtolist\u001b[0m\u001b[1;33m(\u001b[0m\u001b[1;33m)\u001b[0m\u001b[1;33m\u001b[0m\u001b[0m\n\u001b[0;32m      5\u001b[0m \u001b[0mimportances\u001b[0m \u001b[1;33m=\u001b[0m \u001b[0mclf1\u001b[0m\u001b[1;33m.\u001b[0m\u001b[0mfeature_importances_\u001b[0m\u001b[1;33m\u001b[0m\u001b[0m\n\u001b[1;32m----> 6\u001b[1;33m \u001b[0mp\u001b[0m \u001b[1;33m=\u001b[0m \u001b[0mnp\u001b[0m\u001b[1;33m.\u001b[0m\u001b[0mvstack\u001b[0m\u001b[1;33m(\u001b[0m\u001b[1;33m(\u001b[0m\u001b[0mfeatures_list\u001b[0m\u001b[1;33m,\u001b[0m\u001b[0mimportances\u001b[0m\u001b[1;33m)\u001b[0m\u001b[1;33m)\u001b[0m\u001b[1;33m\u001b[0m\u001b[0m\n\u001b[0m\u001b[0;32m      7\u001b[0m \u001b[1;33m\u001b[0m\u001b[0m\n\u001b[0;32m      8\u001b[0m \u001b[0mdf\u001b[0m \u001b[1;33m=\u001b[0m \u001b[0mpd\u001b[0m\u001b[1;33m.\u001b[0m\u001b[0mDataFrame\u001b[0m\u001b[1;33m(\u001b[0m\u001b[0mp\u001b[0m\u001b[1;33m.\u001b[0m\u001b[0mtranspose\u001b[0m\u001b[1;33m(\u001b[0m\u001b[1;33m)\u001b[0m\u001b[1;33m,\u001b[0m\u001b[0mcolumns\u001b[0m\u001b[1;33m=\u001b[0m\u001b[1;33m[\u001b[0m\u001b[1;34m'name'\u001b[0m\u001b[1;33m,\u001b[0m\u001b[1;34m'importance'\u001b[0m\u001b[1;33m]\u001b[0m\u001b[1;33m)\u001b[0m\u001b[1;33m\u001b[0m\u001b[0m\n",
      "\u001b[1;32mC:\\Users\\Hemant\\AppData\\Local\\conda\\conda\\envs\\aind-dog\\lib\\site-packages\\numpy\\core\\shape_base.py\u001b[0m in \u001b[0;36mvstack\u001b[1;34m(tup)\u001b[0m\n\u001b[0;32m    228\u001b[0m \u001b[1;33m\u001b[0m\u001b[0m\n\u001b[0;32m    229\u001b[0m     \"\"\"\n\u001b[1;32m--> 230\u001b[1;33m     \u001b[1;32mreturn\u001b[0m \u001b[0m_nx\u001b[0m\u001b[1;33m.\u001b[0m\u001b[0mconcatenate\u001b[0m\u001b[1;33m(\u001b[0m\u001b[1;33m[\u001b[0m\u001b[0matleast_2d\u001b[0m\u001b[1;33m(\u001b[0m\u001b[0m_m\u001b[0m\u001b[1;33m)\u001b[0m \u001b[1;32mfor\u001b[0m \u001b[0m_m\u001b[0m \u001b[1;32min\u001b[0m \u001b[0mtup\u001b[0m\u001b[1;33m]\u001b[0m\u001b[1;33m,\u001b[0m \u001b[1;36m0\u001b[0m\u001b[1;33m)\u001b[0m\u001b[1;33m\u001b[0m\u001b[0m\n\u001b[0m\u001b[0;32m    231\u001b[0m \u001b[1;33m\u001b[0m\u001b[0m\n\u001b[0;32m    232\u001b[0m \u001b[1;32mdef\u001b[0m \u001b[0mhstack\u001b[0m\u001b[1;33m(\u001b[0m\u001b[0mtup\u001b[0m\u001b[1;33m)\u001b[0m\u001b[1;33m:\u001b[0m\u001b[1;33m\u001b[0m\u001b[0m\n",
      "\u001b[1;31mValueError\u001b[0m: all the input array dimensions except for the concatenation axis must match exactly"
     ]
    }
   ],
   "source": [
    "clf1 = RandomForestRegressor(100).fit(train_features_o[['NPCD', 'ExactCardinality', 'Cyclic Cls', 'ClassAssertion']], train_target_o['Konclude_RT'])\n",
    "print(clf1.score(test_features_o[['NPCD', 'ExactCardinality', 'Cyclic Cls', 'ClassAssertion']], test_target_o['Konclude_RT']))\n",
    "\n",
    "features_list = train_features.columns.tolist()\n",
    "importances = clf1.feature_importances_\n",
    "p = np.vstack((features_list,importances))\n",
    "\n",
    "df = pd.DataFrame(p.transpose(),columns=['name','importance'])\n",
    "dfsorted = df.sort_values(['importance'], ascending=False)\n",
    "dfsorted['name']=df['name'].astype(str)\n",
    "dfsorted['importance']=df['importance'].astype(float)\n",
    "\n",
    "print(dfsorted.dtypes)\n",
    "\n",
    "best_col = dfsorted.loc[dfsorted['importance'] > 0.01]\n",
    "\n",
    "print(best_col['name'].tolist())"
   ]
  },
  {
   "cell_type": "code",
   "execution_count": 241,
   "metadata": {
    "collapsed": false,
    "deletable": true,
    "editable": true
   },
   "outputs": [
    {
     "name": "stdout",
     "output_type": "stream",
     "text": [
      "Training accuracy is  0.758127907082\n",
      "testing accuracy is  -0.174134277223\n",
      "Training accuracy is  0.784522851265\n",
      "testing accuracy is  -0.223895271323\n",
      "Training accuracy is  0.780370990424\n",
      "testing accuracy is  -0.246554559713\n",
      "Training accuracy is  0.763143494911\n",
      "testing accuracy is  -0.199837035472\n",
      "Training accuracy is  0.787150979349\n",
      "testing accuracy is  -0.194018062826\n",
      "Training accuracy is  0.787883826577\n",
      "testing accuracy is  -0.07251366214\n"
     ]
    }
   ],
   "source": [
    "from sklearn.linear_model import LogisticRegression\n",
    "from sklearn.metrics import accuracy_score\n",
    "logreg = RandomForestRegressor(50)\n",
    "\n",
    "submission_binary = pd.DataFrame()\n",
    "for label in target_cols:\n",
    "    # print('... Processing {}'.format(label))\n",
    "    y = np.log1p(train_target[label])\n",
    "    test_y = np.log1p(test_target[label])\n",
    "    # train the model using X_dtm & y\n",
    "    logreg.fit(np.log1p(train_features), y)\n",
    "    # compute the training accuracy\n",
    "    y_pred_X = logreg.predict(np.log1p(train_features))\n",
    "    #print('Training accuracy is ',accuracy_score(y, y_pred_X))\n",
    "    print('Training accuracy is ',logreg.score(np.log1p(train_features), y))\n",
    "    print('testing accuracy is ',logreg.score(np.log1p(test_features),test_y))\n",
    "    # compute the predicted probabilities for X_test_dtm\n",
    "    #test_y_prob = logreg.predict_proba(test_features)\n",
    "   # submission_binary[label] = test_y_prob"
   ]
  },
  {
   "cell_type": "code",
   "execution_count": 163,
   "metadata": {
    "collapsed": false,
    "deletable": true,
    "editable": true
   },
   "outputs": [
    {
     "name": "stdout",
     "output_type": "stream",
     "text": [
      "Training accuracy is  0.770241610561\n",
      "testing accuracy is  -0.102198237474\n",
      "Training accuracy is  0.788266119455\n",
      "testing accuracy is  -0.164067195395\n",
      "Training accuracy is  0.783930764941\n",
      "testing accuracy is  -0.217468142479\n",
      "Training accuracy is  0.77560280386\n",
      "testing accuracy is  -0.141375345317\n",
      "Training accuracy is  0.786866971992\n",
      "testing accuracy is  -0.224902267779\n",
      "Training accuracy is  0.802538592875\n",
      "testing accuracy is  -0.0907650963603\n"
     ]
    }
   ],
   "source": [
    "from sklearn.linear_model import LogisticRegression\n",
    "from sklearn.metrics import accuracy_score\n",
    "logreg = RandomForestRegressor(100)\n",
    "\n",
    "submission_binary = pd.DataFrame()\n",
    "for label in target_cols:\n",
    "    # print('... Processing {}'.format(label))\n",
    "    y = np.log1p(train_target_o[label])\n",
    "    test_y = np.log1p(test_target_o[label])\n",
    "    # train the model using X_dtm & y\n",
    "    logreg.fit(np.log1p(train_features_o), y)\n",
    "    # compute the training accuracy\n",
    "    y_pred_X = logreg.predict(np.log1p(train_features_o))\n",
    "    #print('Training accuracy is ',accuracy_score(y, y_pred_X))\n",
    "    print('Training accuracy is ',logreg.score(np.log1p(train_features_o), y))\n",
    "    print('testing accuracy is ',logreg.score(np.log1p(test_features_o),test_y))\n",
    "    # compute the predicted probabilities for X_test_dtm\n",
    "    #test_y_prob = logreg.predict_proba(test_features)\n",
    "   # submission_binary[labetest_features_ol] = test_y_prob"
   ]
  },
  {
   "cell_type": "code",
   "execution_count": 234,
   "metadata": {
    "collapsed": false,
    "deletable": true,
    "editable": true
   },
   "outputs": [
    {
     "name": "stdout",
     "output_type": "stream",
     "text": [
      "-0.362048023538\n",
      "-0.316116980672\n"
     ]
    }
   ],
   "source": [
    "clf1 = RandomForestRegressor(100).fit(train_features, train_target)\n",
    "print(clf1.score(test_features,test_target))\n",
    "\n",
    "clf1 = RandomForestRegressor(100).fit(train_features_o, train_target_o)\n",
    "print(clf1.score(test_features_o,test_target_o))"
   ]
  },
  {
   "cell_type": "code",
   "execution_count": 235,
   "metadata": {
    "collapsed": false,
    "deletable": true,
    "editable": true
   },
   "outputs": [
    {
     "name": "stdout",
     "output_type": "stream",
     "text": [
      "-0.513196688935\n"
     ]
    },
    {
     "name": "stderr",
     "output_type": "stream",
     "text": [
      "C:\\Users\\Hemant\\AppData\\Local\\conda\\conda\\envs\\aind-dog\\lib\\site-packages\\sklearn\\metrics\\regression.py:482: DeprecationWarning: Default 'multioutput' behavior now corresponds to 'variance_weighted' value which is deprecated since 0.17, it will be changed to 'uniform_average' starting from 0.19.\n",
      "  DeprecationWarning)\n"
     ]
    },
    {
     "name": "stdout",
     "output_type": "stream",
     "text": [
      "-0.405669604699\n",
      "-0.499304143544\n",
      "-0.34655504038\n"
     ]
    },
    {
     "name": "stderr",
     "output_type": "stream",
     "text": [
      "C:\\Users\\Hemant\\AppData\\Local\\conda\\conda\\envs\\aind-dog\\lib\\site-packages\\sklearn\\metrics\\regression.py:482: DeprecationWarning: Default 'multioutput' behavior now corresponds to 'variance_weighted' value which is deprecated since 0.17, it will be changed to 'uniform_average' starting from 0.19.\n",
      "  DeprecationWarning)\n"
     ]
    }
   ],
   "source": [
    "forest = RandomForestRegressor(n_estimators=60, random_state=1)\n",
    "multi_target_forest = MultiOutputRegressor(forest, n_jobs=-1)\n",
    "print(multi_target_forest.fit(train_features, train_target).score(test_features,test_target))\n",
    "print(r2_score(test_target,multi_target_forest.predict(test_features)))\n",
    "\n",
    "print(multi_target_forest.fit(train_features_o, train_target_o).score(test_features_o,test_target_o))\n",
    "print(r2_score(test_target_o,multi_target_forest.predict(test_features_o)))"
   ]
  },
  {
   "cell_type": "code",
   "execution_count": 177,
   "metadata": {
    "collapsed": false,
    "deletable": true,
    "editable": true
   },
   "outputs": [
    {
     "name": "stdout",
     "output_type": "stream",
     "text": [
      "r2score is  0.915426439441\n",
      "Training accuracy is  0.915426439441\n",
      "testing accuracy is  -0.33739336969\n",
      "r2score is  0.933191178553\n",
      "Training accuracy is  0.933191178553\n",
      "testing accuracy is  -0.184923151582\n",
      "r2score is  0.923679662872\n",
      "Training accuracy is  0.923679662872\n",
      "testing accuracy is  -0.241654780086\n",
      "r2score is  0.924608205154\n",
      "Training accuracy is  0.924608205154\n",
      "testing accuracy is  -0.541911890362\n",
      "r2score is  0.927468692608\n",
      "Training accuracy is  0.927468692608\n",
      "testing accuracy is  -0.424476466203\n",
      "r2score is  0.942883936978\n",
      "Training accuracy is  0.942883936978\n",
      "testing accuracy is  -0.796977467531\n"
     ]
    }
   ],
   "source": [
    "from sklearn.linear_model import LogisticRegression\n",
    "from sklearn.metrics import accuracy_score\n",
    "from sklearn.metrics import r2_score\n",
    "logreg = RandomForestRegressor(50)\n",
    "\n",
    "submission_binary = pd.DataFrame()\n",
    "for label in target_cols:\n",
    "    # print('... Processing {}'.format(label))\n",
    "    y = np.log1p(train_target_o[label])\n",
    "    test_y = np.log1p(test_target_o[label])\n",
    "    # train the model using X_dtm & y\n",
    "    \n",
    "    logreg.fit(np.log1p(train_features_o), y)\n",
    "    # compute the training accuracy\n",
    "    y_pred_X = logreg.predict(np.log1p(train_features_o))\n",
    "    \n",
    "    print('r2score is ',r2_score(y,(y_pred_X)))\n",
    "    print('Training accuracy is ',logreg.score(np.log1p(train_features_o), y))\n",
    "    print('testing accuracy is ',logreg.score(np.log1p(test_features_o),test_y))\n",
    "    lpred = label + 'new'\n",
    "    train_features_o[lpred] = logreg.predict(np.log1p(train_features_o))\n",
    "    test_features_o[lpred] = logreg.predict(np.log1p(test_features_o))\n",
    "    # compute the predicted probabilities for X_test_dtm\n",
    "    #test_y_prob = logreg.predict_proba(test_features)\n",
    "   # submission_binary[labetest_features_ol] = test_y_prob"
   ]
  },
  {
   "cell_type": "code",
   "execution_count": 448,
   "metadata": {
    "collapsed": false,
    "deletable": true,
    "editable": true
   },
   "outputs": [],
   "source": [
    "import numpy as np\n",
    "import matplotlib.pyplot as plt\n",
    "from sklearn.ensemble import RandomForestRegressor\n",
    "from sklearn.model_selection import train_test_split\n",
    "from sklearn.multioutput import MultiOutputRegressor\n",
    "\n",
    "\n",
    "# Create a random dataset\n",
    "rng = np.random.RandomState(1)\n",
    "X = np.sort(200 * rng.rand(600, 1) - 100, axis=0)\n",
    "y = np.array([np.pi * np.sin(X).ravel(), np.pi * np.cos(X).ravel()]).T\n",
    "y += (0.5 - rng.rand(*y.shape))\n",
    "\n",
    "#X_train, X_test, y_train, y_test = train_test_split(X, y, train_size=400, random_state=4)\n",
    "\n",
    "X_train = train_features.values\n",
    "X_test = test_features.values\n",
    "y_train = train_target['Konclude_RT'].values\n",
    "y_test = test_target['Konclude_RT'].values\n",
    "\n",
    "\n",
    "#print(X_train.shape, y_train.shape, X_test.shape , y_test.shape)\n"
   ]
  },
  {
   "cell_type": "code",
   "execution_count": 461,
   "metadata": {
    "collapsed": false,
    "deletable": true,
    "editable": true
   },
   "outputs": [
    {
     "name": "stdout",
     "output_type": "stream",
     "text": [
      "0.00173144158203\n"
     ]
    },
    {
     "data": {
      "text/plain": [
       "\"\\nfor x in range(1000,1500,100):\\n    #regr_multirf = MultiOutputRegressor(RandomForestRegressor(n_estimators=x,  random_state=2))\\n    #regr_multirf.fit(X_train, y_train)\\n\\n    regr_rf = RandomForestRegressor(n_estimators=x,  random_state=2)\\n    regr_rf.fit(X_train, y_train)\\n\\n    # Predict on new data\\n    #y_multirf = regr_multirf.predict(X_test)\\n    y_rf = regr_rf.predict(X_test)\\n    y_rf_train = regr_rf.predict(X_train)\\n    \\n    print(r2_score(y_test, y_rf, multioutput='variance_weighted'),'|||', r2_score(y_train, y_rf_train, multioutput='variance_weighted'))\\n    #print(regr_multirf.score(X_train, y_train),regr_rf.score(X_train, y_train),regr_multirf.score(X_test, y_test),regr_rf.score(X_test, y_test))\\n\""
      ]
     },
     "execution_count": 461,
     "metadata": {},
     "output_type": "execute_result"
    }
   ],
   "source": [
    "\n",
    "from sklearn.neighbors import KNeighborsRegressor\n",
    "neigh = KNeighborsRegressor(n_neighbors=110)\n",
    "neigh.fit(X_train, y_train) \n",
    "y_rf = neigh.predict(X_test)\n",
    "\n",
    "print(r2_score(y_test, y_rf))\n",
    "\n",
    "'''\n",
    "for x in range(1000,1500,100):\n",
    "    #regr_multirf = MultiOutputRegressor(RandomForestRegressor(n_estimators=x,  random_state=2))\n",
    "    #regr_multirf.fit(X_train, y_train)\n",
    "\n",
    "    regr_rf = RandomForestRegressor(n_estimators=x,  random_state=2)\n",
    "    regr_rf.fit(X_train, y_train)\n",
    "\n",
    "    # Predict on new data\n",
    "    #y_multirf = regr_multirf.predict(X_test)\n",
    "    y_rf = regr_rf.predict(X_test)\n",
    "    y_rf_train = regr_rf.predict(X_train)\n",
    "    \n",
    "    print(r2_score(y_test, y_rf, multioutput='variance_weighted'),'|||', r2_score(y_train, y_rf_train, multioutput='variance_weighted'))\n",
    "    #print(regr_multirf.score(X_train, y_train),regr_rf.score(X_train, y_train),regr_multirf.score(X_test, y_test),regr_rf.score(X_test, y_test))\n",
    "'''"
   ]
  },
  {
   "cell_type": "code",
   "execution_count": 369,
   "metadata": {
    "collapsed": false,
    "deletable": true,
    "editable": true
   },
   "outputs": [
    {
     "data": {
      "image/png": "[encoded data removed]",
      "text/plain": [
       "<matplotlib.figure.Figure at 0xdbac7b8>"
      ]
     },
     "metadata": {},
     "output_type": "display_data"
    }
   ],
   "source": [
    "max_depth = 30\n",
    "regr_multirf = MultiOutputRegressor(RandomForestRegressor(n_estimators=40,  random_state=2, oob_score=True))\n",
    "regr_multirf.fit(X_train, y_train)\n",
    "\n",
    "regr_rf = RandomForestRegressor(n_estimators=30,  random_state=40, oob_score=True)\n",
    "regr_rf.fit(X_train, y_train)\n",
    "\n",
    "# Predict on new data\n",
    "y_multirf = regr_multirf.predict(X_test)\n",
    "y_rf = regr_rf.predict(X_test)\n",
    "\n",
    "# Plot the results\n",
    "plt.figure()\n",
    "s = 50\n",
    "a = 0.4\n",
    "plt.scatter(y_test[:, 0], y_test[:, 1], edgecolor='k',\n",
    "            c=\"navy\", s=s, marker=\"s\", alpha=a, label=\"Data\")\n",
    "plt.scatter(y_multirf[:, 0], y_multirf[:, 1], edgecolor='k',\n",
    "            c=\"cornflowerblue\", s=s, alpha=a,\n",
    "            label=\"Multi RF score=%.2f\" % regr_multirf.score(X_test, y_test))\n",
    "plt.scatter(y_rf[:, 0], y_rf[:, 1], edgecolor='k',\n",
    "            c=\"c\", s=s, marker=\"^\", alpha=a,\n",
    "            label=\"RF score=%.2f\" % regr_rf.score(X_test, y_test))\n",
    "#plt.xlim([-6, 6])\n",
    "#plt.ylim([-6, 6])\n",
    "plt.xlabel(\"target 1\")\n",
    "plt.ylabel(\"target 2\")\n",
    "plt.title(\"Comparing random forests and the multi-output meta estimator\")\n",
    "plt.legend()\n",
    "plt.show()"
   ]
  }
 ],
 "metadata": {
  "anaconda-cloud": {},
  "kernelspec": {
   "display_name": "Python [conda env:aind-dog]",
   "language": "python",
   "name": "conda-env-aind-dog-py"
  },
  "language_info": {
   "codemirror_mode": {
    "name": "ipython",
    "version": 3
   },
   "file_extension": ".py",
   "mimetype": "text/x-python",
   "name": "python",
   "nbconvert_exporter": "python",
   "pygments_lexer": "ipython3",
   "version": "3.5.3"
  }
 },
 "nbformat": 4,
 "nbformat_minor": 2
}
